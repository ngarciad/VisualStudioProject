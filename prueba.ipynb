{
 "cells": [
  {
   "cell_type": "code",
   "execution_count": 2,
   "id": "d0b6e63c",
   "metadata": {},
   "outputs": [],
   "source": [
    "x=  2"
   ]
  },
  {
   "cell_type": "code",
   "execution_count": 3,
   "id": "7573ea14",
   "metadata": {},
   "outputs": [
    {
     "data": {
      "text/plain": [
       "2"
      ]
     },
     "execution_count": 3,
     "metadata": {},
     "output_type": "execute_result"
    }
   ],
   "source": [
    "x"
   ]
  },
  {
   "cell_type": "code",
   "execution_count": 5,
   "id": "82a54f74",
   "metadata": {},
   "outputs": [
    {
     "name": "stdout",
     "output_type": "stream",
     "text": [
      "Collecting pandas\n",
      "  Downloading pandas-2.3.1-cp313-cp313-win_amd64.whl.metadata (19 kB)\n",
      "Collecting numpy>=1.26.0 (from pandas)\n",
      "  Downloading numpy-2.3.2-cp313-cp313-win_amd64.whl.metadata (60 kB)\n",
      "Requirement already satisfied: python-dateutil>=2.8.2 in c:\\users\\nicolas garcia\\appdata\\roaming\\python\\python313\\site-packages (from pandas) (2.9.0.post0)\n",
      "Collecting pytz>=2020.1 (from pandas)\n",
      "  Downloading pytz-2025.2-py2.py3-none-any.whl.metadata (22 kB)\n",
      "Collecting tzdata>=2022.7 (from pandas)\n",
      "  Downloading tzdata-2025.2-py2.py3-none-any.whl.metadata (1.4 kB)\n",
      "Requirement already satisfied: six>=1.5 in c:\\users\\nicolas garcia\\appdata\\roaming\\python\\python313\\site-packages (from python-dateutil>=2.8.2->pandas) (1.17.0)\n",
      "Downloading pandas-2.3.1-cp313-cp313-win_amd64.whl (11.0 MB)\n",
      "   ---------------------------------------- 0.0/11.0 MB ? eta -:--:--\n",
      "    --------------------------------------- 0.3/11.0 MB ? eta -:--:--\n",
      "   -- ------------------------------------- 0.8/11.0 MB 2.8 MB/s eta 0:00:04\n",
      "   ---- ----------------------------------- 1.3/11.0 MB 2.1 MB/s eta 0:00:05\n",
      "   ----- ---------------------------------- 1.6/11.0 MB 2.0 MB/s eta 0:00:05\n",
      "   ------- -------------------------------- 2.1/11.0 MB 2.1 MB/s eta 0:00:05\n",
      "   --------- ------------------------------ 2.6/11.0 MB 2.1 MB/s eta 0:00:05\n",
      "   ---------- ----------------------------- 2.9/11.0 MB 2.0 MB/s eta 0:00:05\n",
      "   ------------ --------------------------- 3.4/11.0 MB 2.1 MB/s eta 0:00:04\n",
      "   -------------- ------------------------- 3.9/11.0 MB 2.1 MB/s eta 0:00:04\n",
      "   ---------------- ----------------------- 4.5/11.0 MB 2.1 MB/s eta 0:00:04\n",
      "   ----------------- ---------------------- 4.7/11.0 MB 2.1 MB/s eta 0:00:03\n",
      "   ------------------- -------------------- 5.2/11.0 MB 2.2 MB/s eta 0:00:03\n",
      "   -------------------- ------------------- 5.8/11.0 MB 2.1 MB/s eta 0:00:03\n",
      "   ---------------------- ----------------- 6.3/11.0 MB 2.2 MB/s eta 0:00:03\n",
      "   ------------------------- -------------- 7.1/11.0 MB 2.3 MB/s eta 0:00:02\n",
      "   --------------------------- ------------ 7.6/11.0 MB 2.3 MB/s eta 0:00:02\n",
      "   ------------------------------ --------- 8.4/11.0 MB 2.4 MB/s eta 0:00:02\n",
      "   ------------------------------- -------- 8.7/11.0 MB 2.3 MB/s eta 0:00:02\n",
      "   ---------------------------------- ----- 9.4/11.0 MB 2.4 MB/s eta 0:00:01\n",
      "   ------------------------------------ --- 10.0/11.0 MB 2.4 MB/s eta 0:00:01\n",
      "   ---------------------------------------  10.7/11.0 MB 2.5 MB/s eta 0:00:01\n",
      "   ---------------------------------------- 11.0/11.0 MB 2.4 MB/s eta 0:00:00\n",
      "Downloading numpy-2.3.2-cp313-cp313-win_amd64.whl (12.8 MB)\n",
      "   ---------------------------------------- 0.0/12.8 MB ? eta -:--:--\n",
      "    --------------------------------------- 0.3/12.8 MB ? eta -:--:--\n",
      "   - -------------------------------------- 0.5/12.8 MB 5.3 MB/s eta 0:00:03\n",
      "   --- ------------------------------------ 1.0/12.8 MB 2.2 MB/s eta 0:00:06\n",
      "   ----- ---------------------------------- 1.8/12.8 MB 2.6 MB/s eta 0:00:05\n",
      "   ------- -------------------------------- 2.4/12.8 MB 2.6 MB/s eta 0:00:05\n",
      "   --------- ------------------------------ 3.1/12.8 MB 2.7 MB/s eta 0:00:04\n",
      "   ----------- ---------------------------- 3.7/12.8 MB 2.7 MB/s eta 0:00:04\n",
      "   ------------- -------------------------- 4.2/12.8 MB 2.7 MB/s eta 0:00:04\n",
      "   --------------- ------------------------ 5.0/12.8 MB 2.8 MB/s eta 0:00:03\n",
      "   ------------------ --------------------- 5.8/12.8 MB 2.8 MB/s eta 0:00:03\n",
      "   -------------------- ------------------- 6.6/12.8 MB 2.9 MB/s eta 0:00:03\n",
      "   ---------------------- ----------------- 7.1/12.8 MB 3.0 MB/s eta 0:00:02\n",
      "   ------------------------ --------------- 7.9/12.8 MB 3.0 MB/s eta 0:00:02\n",
      "   --------------------------- ------------ 8.7/12.8 MB 3.0 MB/s eta 0:00:02\n",
      "   --------------------------- ------------ 8.9/12.8 MB 3.1 MB/s eta 0:00:02\n",
      "   ------------------------------ --------- 9.7/12.8 MB 2.9 MB/s eta 0:00:02\n",
      "   ------------------------------- -------- 10.2/12.8 MB 3.0 MB/s eta 0:00:01\n",
      "   --------------------------------- ------ 10.7/12.8 MB 2.9 MB/s eta 0:00:01\n",
      "   ------------------------------------ --- 11.5/12.8 MB 2.9 MB/s eta 0:00:01\n",
      "   ------------------------------------- -- 12.1/12.8 MB 2.9 MB/s eta 0:00:01\n",
      "   ---------------------------------------  12.6/12.8 MB 2.9 MB/s eta 0:00:01\n",
      "   ---------------------------------------- 12.8/12.8 MB 2.8 MB/s eta 0:00:00\n",
      "Downloading pytz-2025.2-py2.py3-none-any.whl (509 kB)\n",
      "Downloading tzdata-2025.2-py2.py3-none-any.whl (347 kB)\n",
      "Installing collected packages: pytz, tzdata, numpy, pandas\n",
      "Successfully installed numpy-2.3.2 pandas-2.3.1 pytz-2025.2 tzdata-2025.2\n",
      "Note: you may need to restart the kernel to use updated packages.\n"
     ]
    },
    {
     "name": "stderr",
     "output_type": "stream",
     "text": [
      "\n",
      "[notice] A new release of pip is available: 24.3.1 -> 25.2\n",
      "[notice] To update, run: python.exe -m pip install --upgrade pip\n"
     ]
    }
   ],
   "source": [
    "pip install pandas"
   ]
  },
  {
   "cell_type": "code",
   "execution_count": 8,
   "id": "c85ceb6b",
   "metadata": {},
   "outputs": [
    {
     "name": "stdout",
     "output_type": "stream",
     "text": [
      "Collecting matplotlib\n",
      "  Downloading matplotlib-3.10.5-cp313-cp313-win_amd64.whl.metadata (11 kB)\n",
      "Collecting contourpy>=1.0.1 (from matplotlib)\n",
      "  Downloading contourpy-1.3.3-cp313-cp313-win_amd64.whl.metadata (5.5 kB)\n",
      "Collecting cycler>=0.10 (from matplotlib)\n",
      "  Downloading cycler-0.12.1-py3-none-any.whl.metadata (3.8 kB)\n",
      "Collecting fonttools>=4.22.0 (from matplotlib)\n",
      "  Downloading fonttools-4.59.0-cp313-cp313-win_amd64.whl.metadata (110 kB)\n",
      "Collecting kiwisolver>=1.3.1 (from matplotlib)\n",
      "  Downloading kiwisolver-1.4.8-cp313-cp313-win_amd64.whl.metadata (6.3 kB)\n",
      "Requirement already satisfied: numpy>=1.23 in c:\\users\\nicolas garcia\\appdata\\local\\programs\\python\\python313\\lib\\site-packages (from matplotlib) (2.3.2)\n",
      "Requirement already satisfied: packaging>=20.0 in c:\\users\\nicolas garcia\\appdata\\roaming\\python\\python313\\site-packages (from matplotlib) (24.2)\n",
      "Collecting pillow>=8 (from matplotlib)\n",
      "  Downloading pillow-11.3.0-cp313-cp313-win_amd64.whl.metadata (9.2 kB)\n",
      "Collecting pyparsing>=2.3.1 (from matplotlib)\n",
      "  Downloading pyparsing-3.2.3-py3-none-any.whl.metadata (5.0 kB)\n",
      "Requirement already satisfied: python-dateutil>=2.7 in c:\\users\\nicolas garcia\\appdata\\roaming\\python\\python313\\site-packages (from matplotlib) (2.9.0.post0)\n",
      "Requirement already satisfied: six>=1.5 in c:\\users\\nicolas garcia\\appdata\\roaming\\python\\python313\\site-packages (from python-dateutil>=2.7->matplotlib) (1.17.0)\n",
      "Downloading matplotlib-3.10.5-cp313-cp313-win_amd64.whl (8.1 MB)\n",
      "   ---------------------------------------- 0.0/8.1 MB ? eta -:--:--\n",
      "   ---------------------------------------- 0.0/8.1 MB ? eta -:--:--\n",
      "   -- ------------------------------------- 0.5/8.1 MB 1.5 MB/s eta 0:00:05\n",
      "   --- ------------------------------------ 0.8/8.1 MB 1.5 MB/s eta 0:00:05\n",
      "   ----- ---------------------------------- 1.0/8.1 MB 1.3 MB/s eta 0:00:06\n",
      "   ------ --------------------------------- 1.3/8.1 MB 1.3 MB/s eta 0:00:06\n",
      "   ------ --------------------------------- 1.3/8.1 MB 1.3 MB/s eta 0:00:06\n",
      "   ------- -------------------------------- 1.6/8.1 MB 1.2 MB/s eta 0:00:06\n",
      "   --------- ------------------------------ 1.8/8.1 MB 1.2 MB/s eta 0:00:06\n",
      "   ---------- ----------------------------- 2.1/8.1 MB 1.1 MB/s eta 0:00:06\n",
      "   ----------- ---------------------------- 2.4/8.1 MB 1.2 MB/s eta 0:00:05\n",
      "   ----------- ---------------------------- 2.4/8.1 MB 1.2 MB/s eta 0:00:05\n",
      "   -------------- ------------------------- 2.9/8.1 MB 1.1 MB/s eta 0:00:05\n",
      "   --------------- ------------------------ 3.1/8.1 MB 1.2 MB/s eta 0:00:05\n",
      "   ---------------- ----------------------- 3.4/8.1 MB 1.2 MB/s eta 0:00:04\n",
      "   ------------------ --------------------- 3.7/8.1 MB 1.2 MB/s eta 0:00:04\n",
      "   -------------------- ------------------- 4.2/8.1 MB 1.2 MB/s eta 0:00:04\n",
      "   --------------------- ------------------ 4.5/8.1 MB 1.3 MB/s eta 0:00:03\n",
      "   ----------------------- ---------------- 4.7/8.1 MB 1.3 MB/s eta 0:00:03\n",
      "   ------------------------- -------------- 5.2/8.1 MB 1.3 MB/s eta 0:00:03\n",
      "   --------------------------- ------------ 5.5/8.1 MB 1.3 MB/s eta 0:00:02\n",
      "   ---------------------------- ----------- 5.8/8.1 MB 1.3 MB/s eta 0:00:02\n",
      "   ----------------------------- ---------- 6.0/8.1 MB 1.3 MB/s eta 0:00:02\n",
      "   ------------------------------- -------- 6.3/8.1 MB 1.3 MB/s eta 0:00:02\n",
      "   -------------------------------- ------- 6.6/8.1 MB 1.3 MB/s eta 0:00:02\n",
      "   --------------------------------- ------ 6.8/8.1 MB 1.3 MB/s eta 0:00:01\n",
      "   ------------------------------------ --- 7.3/8.1 MB 1.4 MB/s eta 0:00:01\n",
      "   -------------------------------------- - 7.9/8.1 MB 1.4 MB/s eta 0:00:01\n",
      "   ---------------------------------------- 8.1/8.1 MB 1.4 MB/s eta 0:00:00\n",
      "Downloading contourpy-1.3.3-cp313-cp313-win_amd64.whl (226 kB)\n",
      "Downloading cycler-0.12.1-py3-none-any.whl (8.3 kB)\n",
      "Downloading fonttools-4.59.0-cp313-cp313-win_amd64.whl (2.2 MB)\n",
      "   ---------------------------------------- 0.0/2.2 MB ? eta -:--:--\n",
      "   ---- ----------------------------------- 0.3/2.2 MB ? eta -:--:--\n",
      "   ---- ----------------------------------- 0.3/2.2 MB ? eta -:--:--\n",
      "   ------------- -------------------------- 0.8/2.2 MB 1.2 MB/s eta 0:00:02\n",
      "   ----------------------- ---------------- 1.3/2.2 MB 1.6 MB/s eta 0:00:01\n",
      "   ----------------------- ---------------- 1.3/2.2 MB 1.6 MB/s eta 0:00:01\n",
      "   --------------------------- ------------ 1.6/2.2 MB 1.2 MB/s eta 0:00:01\n",
      "   -------------------------------- ------- 1.8/2.2 MB 1.2 MB/s eta 0:00:01\n",
      "   ---------------------------------------- 2.2/2.2 MB 1.3 MB/s eta 0:00:00\n",
      "Downloading kiwisolver-1.4.8-cp313-cp313-win_amd64.whl (71 kB)\n",
      "Downloading pillow-11.3.0-cp313-cp313-win_amd64.whl (7.0 MB)\n",
      "   ---------------------------------------- 0.0/7.0 MB ? eta -:--:--\n",
      "   - -------------------------------------- 0.3/7.0 MB ? eta -:--:--\n",
      "   - -------------------------------------- 0.3/7.0 MB ? eta -:--:--\n",
      "   ---- ----------------------------------- 0.8/7.0 MB 1.1 MB/s eta 0:00:06\n",
      "   ------ --------------------------------- 1.0/7.0 MB 1.3 MB/s eta 0:00:05\n",
      "   ------- -------------------------------- 1.3/7.0 MB 1.3 MB/s eta 0:00:05\n",
      "   --------- ------------------------------ 1.6/7.0 MB 1.3 MB/s eta 0:00:05\n",
      "   ------------ --------------------------- 2.1/7.0 MB 1.4 MB/s eta 0:00:04\n",
      "   --------------- ------------------------ 2.6/7.0 MB 1.6 MB/s eta 0:00:03\n",
      "   ------------------ --------------------- 3.1/7.0 MB 1.6 MB/s eta 0:00:03\n",
      "   --------------------- ------------------ 3.7/7.0 MB 1.7 MB/s eta 0:00:02\n",
      "   ---------------------- ----------------- 3.9/7.0 MB 1.7 MB/s eta 0:00:02\n",
      "   ------------------------- -------------- 4.5/7.0 MB 1.7 MB/s eta 0:00:02\n",
      "   --------------------------- ------------ 4.7/7.0 MB 1.8 MB/s eta 0:00:02\n",
      "   ---------------------------- ----------- 5.0/7.0 MB 1.7 MB/s eta 0:00:02\n",
      "   ------------------------------ --------- 5.2/7.0 MB 1.7 MB/s eta 0:00:01\n",
      "   ------------------------------- -------- 5.5/7.0 MB 1.7 MB/s eta 0:00:01\n",
      "   ---------------------------------- ----- 6.0/7.0 MB 1.7 MB/s eta 0:00:01\n",
      "   ---------------------------------------  6.8/7.0 MB 1.8 MB/s eta 0:00:01\n",
      "   ---------------------------------------- 7.0/7.0 MB 1.8 MB/s eta 0:00:00\n",
      "Downloading pyparsing-3.2.3-py3-none-any.whl (111 kB)\n",
      "Installing collected packages: pyparsing, pillow, kiwisolver, fonttools, cycler, contourpy, matplotlib\n",
      "Successfully installed contourpy-1.3.3 cycler-0.12.1 fonttools-4.59.0 kiwisolver-1.4.8 matplotlib-3.10.5 pillow-11.3.0 pyparsing-3.2.3\n",
      "Note: you may need to restart the kernel to use updated packages.\n"
     ]
    },
    {
     "name": "stderr",
     "output_type": "stream",
     "text": [
      "\n",
      "[notice] A new release of pip is available: 24.3.1 -> 25.2\n",
      "[notice] To update, run: python.exe -m pip install --upgrade pip\n"
     ]
    }
   ],
   "source": [
    "pip install matplotlib\n"
   ]
  },
  {
   "cell_type": "code",
   "execution_count": 9,
   "id": "e454c46a",
   "metadata": {},
   "outputs": [
    {
     "name": "stdout",
     "output_type": "stream",
     "text": [
      "Collecting seaborn\n",
      "  Downloading seaborn-0.13.2-py3-none-any.whl.metadata (5.4 kB)\n",
      "Requirement already satisfied: numpy!=1.24.0,>=1.20 in c:\\users\\nicolas garcia\\appdata\\local\\programs\\python\\python313\\lib\\site-packages (from seaborn) (2.3.2)\n",
      "Requirement already satisfied: pandas>=1.2 in c:\\users\\nicolas garcia\\appdata\\local\\programs\\python\\python313\\lib\\site-packages (from seaborn) (2.3.1)\n",
      "Requirement already satisfied: matplotlib!=3.6.1,>=3.4 in c:\\users\\nicolas garcia\\appdata\\local\\programs\\python\\python313\\lib\\site-packages (from seaborn) (3.10.5)\n",
      "Requirement already satisfied: contourpy>=1.0.1 in c:\\users\\nicolas garcia\\appdata\\local\\programs\\python\\python313\\lib\\site-packages (from matplotlib!=3.6.1,>=3.4->seaborn) (1.3.3)\n",
      "Requirement already satisfied: cycler>=0.10 in c:\\users\\nicolas garcia\\appdata\\local\\programs\\python\\python313\\lib\\site-packages (from matplotlib!=3.6.1,>=3.4->seaborn) (0.12.1)\n",
      "Requirement already satisfied: fonttools>=4.22.0 in c:\\users\\nicolas garcia\\appdata\\local\\programs\\python\\python313\\lib\\site-packages (from matplotlib!=3.6.1,>=3.4->seaborn) (4.59.0)\n",
      "Requirement already satisfied: kiwisolver>=1.3.1 in c:\\users\\nicolas garcia\\appdata\\local\\programs\\python\\python313\\lib\\site-packages (from matplotlib!=3.6.1,>=3.4->seaborn) (1.4.8)\n",
      "Requirement already satisfied: packaging>=20.0 in c:\\users\\nicolas garcia\\appdata\\roaming\\python\\python313\\site-packages (from matplotlib!=3.6.1,>=3.4->seaborn) (24.2)\n",
      "Requirement already satisfied: pillow>=8 in c:\\users\\nicolas garcia\\appdata\\local\\programs\\python\\python313\\lib\\site-packages (from matplotlib!=3.6.1,>=3.4->seaborn) (11.3.0)\n",
      "Requirement already satisfied: pyparsing>=2.3.1 in c:\\users\\nicolas garcia\\appdata\\local\\programs\\python\\python313\\lib\\site-packages (from matplotlib!=3.6.1,>=3.4->seaborn) (3.2.3)\n",
      "Requirement already satisfied: python-dateutil>=2.7 in c:\\users\\nicolas garcia\\appdata\\roaming\\python\\python313\\site-packages (from matplotlib!=3.6.1,>=3.4->seaborn) (2.9.0.post0)\n",
      "Requirement already satisfied: pytz>=2020.1 in c:\\users\\nicolas garcia\\appdata\\local\\programs\\python\\python313\\lib\\site-packages (from pandas>=1.2->seaborn) (2025.2)\n",
      "Requirement already satisfied: tzdata>=2022.7 in c:\\users\\nicolas garcia\\appdata\\local\\programs\\python\\python313\\lib\\site-packages (from pandas>=1.2->seaborn) (2025.2)\n",
      "Requirement already satisfied: six>=1.5 in c:\\users\\nicolas garcia\\appdata\\roaming\\python\\python313\\site-packages (from python-dateutil>=2.7->matplotlib!=3.6.1,>=3.4->seaborn) (1.17.0)\n",
      "Downloading seaborn-0.13.2-py3-none-any.whl (294 kB)\n",
      "Installing collected packages: seaborn\n",
      "Successfully installed seaborn-0.13.2\n",
      "Note: you may need to restart the kernel to use updated packages.\n"
     ]
    },
    {
     "name": "stderr",
     "output_type": "stream",
     "text": [
      "\n",
      "[notice] A new release of pip is available: 24.3.1 -> 25.2\n",
      "[notice] To update, run: python.exe -m pip install --upgrade pip\n"
     ]
    }
   ],
   "source": [
    "pip install seaborn"
   ]
  },
  {
   "cell_type": "code",
   "execution_count": 13,
   "id": "f00179e3",
   "metadata": {},
   "outputs": [
    {
     "name": "stdout",
     "output_type": "stream",
     "text": [
      "Collecting scikit-learn\n",
      "  Downloading scikit_learn-1.7.1-cp313-cp313-win_amd64.whl.metadata (11 kB)\n",
      "Requirement already satisfied: numpy>=1.22.0 in c:\\users\\nicolas garcia\\appdata\\local\\programs\\python\\python313\\lib\\site-packages (from scikit-learn) (2.3.2)\n",
      "Collecting scipy>=1.8.0 (from scikit-learn)\n",
      "  Downloading scipy-1.16.1-cp313-cp313-win_amd64.whl.metadata (60 kB)\n",
      "Collecting joblib>=1.2.0 (from scikit-learn)\n",
      "  Downloading joblib-1.5.1-py3-none-any.whl.metadata (5.6 kB)\n",
      "Collecting threadpoolctl>=3.1.0 (from scikit-learn)\n",
      "  Downloading threadpoolctl-3.6.0-py3-none-any.whl.metadata (13 kB)\n",
      "Downloading scikit_learn-1.7.1-cp313-cp313-win_amd64.whl (8.7 MB)\n",
      "   ---------------------------------------- 0.0/8.7 MB ? eta -:--:--\n",
      "   -- ------------------------------------- 0.5/8.7 MB 3.5 MB/s eta 0:00:03\n",
      "   ---- ----------------------------------- 1.0/8.7 MB 2.6 MB/s eta 0:00:03\n",
      "   ------ --------------------------------- 1.3/8.7 MB 2.1 MB/s eta 0:00:04\n",
      "   -------- ------------------------------- 1.8/8.7 MB 2.2 MB/s eta 0:00:04\n",
      "   ---------- ----------------------------- 2.4/8.7 MB 2.2 MB/s eta 0:00:03\n",
      "   ------------- -------------------------- 2.9/8.7 MB 2.2 MB/s eta 0:00:03\n",
      "   -------------- ------------------------- 3.1/8.7 MB 2.1 MB/s eta 0:00:03\n",
      "   --------------- ------------------------ 3.4/8.7 MB 2.1 MB/s eta 0:00:03\n",
      "   ------------------ --------------------- 3.9/8.7 MB 2.1 MB/s eta 0:00:03\n",
      "   ------------------- -------------------- 4.2/8.7 MB 2.0 MB/s eta 0:00:03\n",
      "   --------------------- ------------------ 4.7/8.7 MB 2.0 MB/s eta 0:00:02\n",
      "   ------------------------ --------------- 5.2/8.7 MB 2.1 MB/s eta 0:00:02\n",
      "   -------------------------- ------------- 5.8/8.7 MB 2.1 MB/s eta 0:00:02\n",
      "   ---------------------------- ----------- 6.3/8.7 MB 2.1 MB/s eta 0:00:02\n",
      "   ------------------------------ --------- 6.6/8.7 MB 2.1 MB/s eta 0:00:02\n",
      "   --------------------------------- ------ 7.3/8.7 MB 2.1 MB/s eta 0:00:01\n",
      "   ---------------------------------- ----- 7.6/8.7 MB 2.2 MB/s eta 0:00:01\n",
      "   ------------------------------------- -- 8.1/8.7 MB 2.1 MB/s eta 0:00:01\n",
      "   ---------------------------------------- 8.7/8.7 MB 2.2 MB/s eta 0:00:00\n",
      "Downloading joblib-1.5.1-py3-none-any.whl (307 kB)\n",
      "Downloading scipy-1.16.1-cp313-cp313-win_amd64.whl (38.5 MB)\n",
      "   ---------------------------------------- 0.0/38.5 MB ? eta -:--:--\n",
      "    --------------------------------------- 0.5/38.5 MB 2.4 MB/s eta 0:00:16\n",
      "    --------------------------------------- 0.5/38.5 MB 2.4 MB/s eta 0:00:16\n",
      "   - -------------------------------------- 1.0/38.5 MB 1.5 MB/s eta 0:00:25\n",
      "   - -------------------------------------- 1.6/38.5 MB 1.9 MB/s eta 0:00:20\n",
      "   -- ------------------------------------- 2.6/38.5 MB 2.4 MB/s eta 0:00:15\n",
      "   -- ------------------------------------- 2.9/38.5 MB 2.4 MB/s eta 0:00:15\n",
      "   --- ------------------------------------ 3.1/38.5 MB 2.1 MB/s eta 0:00:17\n",
      "   ---- ----------------------------------- 3.9/38.5 MB 2.3 MB/s eta 0:00:16\n",
      "   ---- ----------------------------------- 4.5/38.5 MB 2.4 MB/s eta 0:00:15\n",
      "   ----- ---------------------------------- 5.0/38.5 MB 2.4 MB/s eta 0:00:14\n",
      "   ----- ---------------------------------- 5.8/38.5 MB 2.5 MB/s eta 0:00:14\n",
      "   ------ --------------------------------- 6.6/38.5 MB 2.6 MB/s eta 0:00:13\n",
      "   ------- -------------------------------- 7.1/38.5 MB 2.6 MB/s eta 0:00:13\n",
      "   -------- ------------------------------- 7.9/38.5 MB 2.6 MB/s eta 0:00:12\n",
      "   -------- ------------------------------- 8.1/38.5 MB 2.6 MB/s eta 0:00:12\n",
      "   -------- ------------------------------- 8.7/38.5 MB 2.6 MB/s eta 0:00:12\n",
      "   --------- ------------------------------ 9.2/38.5 MB 2.6 MB/s eta 0:00:12\n",
      "   ---------- ----------------------------- 9.7/38.5 MB 2.6 MB/s eta 0:00:12\n",
      "   ---------- ----------------------------- 10.0/38.5 MB 2.5 MB/s eta 0:00:12\n",
      "   ---------- ----------------------------- 10.2/38.5 MB 2.5 MB/s eta 0:00:12\n",
      "   ----------- ---------------------------- 10.7/38.5 MB 2.5 MB/s eta 0:00:12\n",
      "   ----------- ---------------------------- 11.0/38.5 MB 2.4 MB/s eta 0:00:12\n",
      "   ----------- ---------------------------- 11.5/38.5 MB 2.4 MB/s eta 0:00:12\n",
      "   ------------ --------------------------- 12.1/38.5 MB 2.4 MB/s eta 0:00:12\n",
      "   ------------- -------------------------- 12.6/38.5 MB 2.4 MB/s eta 0:00:11\n",
      "   ------------- -------------------------- 13.1/38.5 MB 2.4 MB/s eta 0:00:11\n",
      "   -------------- ------------------------- 13.6/38.5 MB 2.4 MB/s eta 0:00:11\n",
      "   -------------- ------------------------- 13.9/38.5 MB 2.4 MB/s eta 0:00:11\n",
      "   --------------- ------------------------ 14.7/38.5 MB 2.4 MB/s eta 0:00:10\n",
      "   --------------- ------------------------ 15.2/38.5 MB 2.4 MB/s eta 0:00:10\n",
      "   ---------------- ----------------------- 16.0/38.5 MB 2.4 MB/s eta 0:00:10\n",
      "   ----------------- ---------------------- 16.5/38.5 MB 2.5 MB/s eta 0:00:09\n",
      "   ----------------- ---------------------- 17.0/38.5 MB 2.5 MB/s eta 0:00:09\n",
      "   ------------------ --------------------- 17.8/38.5 MB 2.5 MB/s eta 0:00:09\n",
      "   ------------------- -------------------- 18.4/38.5 MB 2.5 MB/s eta 0:00:09\n",
      "   ------------------- -------------------- 18.6/38.5 MB 2.5 MB/s eta 0:00:08\n",
      "   ------------------- -------------------- 19.1/38.5 MB 2.5 MB/s eta 0:00:08\n",
      "   -------------------- ------------------- 19.9/38.5 MB 2.5 MB/s eta 0:00:08\n",
      "   -------------------- ------------------- 20.2/38.5 MB 2.5 MB/s eta 0:00:08\n",
      "   --------------------- ------------------ 20.4/38.5 MB 2.4 MB/s eta 0:00:08\n",
      "   --------------------- ------------------ 21.0/38.5 MB 2.4 MB/s eta 0:00:08\n",
      "   ---------------------- ----------------- 21.5/38.5 MB 2.4 MB/s eta 0:00:08\n",
      "   ---------------------- ----------------- 22.0/38.5 MB 2.4 MB/s eta 0:00:07\n",
      "   ----------------------- ---------------- 22.5/38.5 MB 2.4 MB/s eta 0:00:07\n",
      "   ----------------------- ---------------- 23.1/38.5 MB 2.4 MB/s eta 0:00:07\n",
      "   ------------------------ --------------- 23.6/38.5 MB 2.4 MB/s eta 0:00:07\n",
      "   ------------------------ --------------- 23.9/38.5 MB 2.4 MB/s eta 0:00:07\n",
      "   ------------------------- -------------- 24.4/38.5 MB 2.4 MB/s eta 0:00:06\n",
      "   ------------------------- -------------- 24.9/38.5 MB 2.4 MB/s eta 0:00:06\n",
      "   -------------------------- ------------- 25.4/38.5 MB 2.4 MB/s eta 0:00:06\n",
      "   -------------------------- ------------- 26.0/38.5 MB 2.4 MB/s eta 0:00:06\n",
      "   --------------------------- ------------ 26.2/38.5 MB 2.4 MB/s eta 0:00:06\n",
      "   --------------------------- ------------ 26.7/38.5 MB 2.4 MB/s eta 0:00:05\n",
      "   ---------------------------- ----------- 27.3/38.5 MB 2.4 MB/s eta 0:00:05\n",
      "   ---------------------------- ----------- 27.8/38.5 MB 2.4 MB/s eta 0:00:05\n",
      "   ----------------------------- ---------- 28.3/38.5 MB 2.4 MB/s eta 0:00:05\n",
      "   ----------------------------- ---------- 28.6/38.5 MB 2.4 MB/s eta 0:00:05\n",
      "   ------------------------------ --------- 29.1/38.5 MB 2.4 MB/s eta 0:00:04\n",
      "   ------------------------------ --------- 29.4/38.5 MB 2.4 MB/s eta 0:00:04\n",
      "   ------------------------------- -------- 29.9/38.5 MB 2.4 MB/s eta 0:00:04\n",
      "   ------------------------------- -------- 30.7/38.5 MB 2.4 MB/s eta 0:00:04\n",
      "   -------------------------------- ------- 31.2/38.5 MB 2.4 MB/s eta 0:00:04\n",
      "   -------------------------------- ------- 31.7/38.5 MB 2.4 MB/s eta 0:00:03\n",
      "   -------------------------------- ------- 31.7/38.5 MB 2.4 MB/s eta 0:00:03\n",
      "   --------------------------------- ------ 32.0/38.5 MB 2.3 MB/s eta 0:00:03\n",
      "   --------------------------------- ------ 32.0/38.5 MB 2.3 MB/s eta 0:00:03\n",
      "   ---------------------------------- ----- 32.8/38.5 MB 2.3 MB/s eta 0:00:03\n",
      "   ---------------------------------- ----- 33.3/38.5 MB 2.3 MB/s eta 0:00:03\n",
      "   ----------------------------------- ---- 33.8/38.5 MB 2.3 MB/s eta 0:00:03\n",
      "   ----------------------------------- ---- 34.3/38.5 MB 2.3 MB/s eta 0:00:02\n",
      "   ----------------------------------- ---- 34.6/38.5 MB 2.3 MB/s eta 0:00:02\n",
      "   ------------------------------------ --- 35.1/38.5 MB 2.3 MB/s eta 0:00:02\n",
      "   ------------------------------------- -- 35.7/38.5 MB 2.3 MB/s eta 0:00:02\n",
      "   ------------------------------------- -- 35.9/38.5 MB 2.3 MB/s eta 0:00:02\n",
      "   ------------------------------------- -- 36.4/38.5 MB 2.3 MB/s eta 0:00:01\n",
      "   -------------------------------------- - 36.7/38.5 MB 2.3 MB/s eta 0:00:01\n",
      "   -------------------------------------- - 37.2/38.5 MB 2.3 MB/s eta 0:00:01\n",
      "   ---------------------------------------  37.7/38.5 MB 2.3 MB/s eta 0:00:01\n",
      "   ---------------------------------------  38.0/38.5 MB 2.3 MB/s eta 0:00:01\n",
      "   ---------------------------------------  38.3/38.5 MB 2.3 MB/s eta 0:00:01\n",
      "   ---------------------------------------- 38.5/38.5 MB 2.2 MB/s eta 0:00:00\n",
      "Downloading threadpoolctl-3.6.0-py3-none-any.whl (18 kB)\n",
      "Installing collected packages: threadpoolctl, scipy, joblib, scikit-learn\n",
      "Successfully installed joblib-1.5.1 scikit-learn-1.7.1 scipy-1.16.1 threadpoolctl-3.6.0\n",
      "Note: you may need to restart the kernel to use updated packages.\n"
     ]
    },
    {
     "name": "stderr",
     "output_type": "stream",
     "text": [
      "\n",
      "[notice] A new release of pip is available: 24.3.1 -> 25.2\n",
      "[notice] To update, run: python.exe -m pip install --upgrade pip\n"
     ]
    }
   ],
   "source": [
    "pip install scikit-learn"
   ]
  },
  {
   "cell_type": "code",
   "execution_count": 11,
   "id": "dac23831",
   "metadata": {},
   "outputs": [
    {
     "name": "stdout",
     "output_type": "stream",
     "text": [
      "Requirement already satisfied: ipykernel in c:\\users\\nicolas garcia\\appdata\\roaming\\python\\python313\\site-packages (6.29.5)\n",
      "Collecting ipykernel\n",
      "  Downloading ipykernel-6.30.1-py3-none-any.whl.metadata (6.2 kB)\n",
      "Requirement already satisfied: comm>=0.1.1 in c:\\users\\nicolas garcia\\appdata\\roaming\\python\\python313\\site-packages (from ipykernel) (0.2.2)\n",
      "Requirement already satisfied: debugpy>=1.6.5 in c:\\users\\nicolas garcia\\appdata\\roaming\\python\\python313\\site-packages (from ipykernel) (1.8.13)\n",
      "Requirement already satisfied: ipython>=7.23.1 in c:\\users\\nicolas garcia\\appdata\\roaming\\python\\python313\\site-packages (from ipykernel) (9.0.2)\n",
      "Requirement already satisfied: jupyter-client>=8.0.0 in c:\\users\\nicolas garcia\\appdata\\roaming\\python\\python313\\site-packages (from ipykernel) (8.6.3)\n",
      "Requirement already satisfied: jupyter-core!=5.0.*,>=4.12 in c:\\users\\nicolas garcia\\appdata\\roaming\\python\\python313\\site-packages (from ipykernel) (5.7.2)\n",
      "Requirement already satisfied: matplotlib-inline>=0.1 in c:\\users\\nicolas garcia\\appdata\\roaming\\python\\python313\\site-packages (from ipykernel) (0.1.7)\n",
      "Requirement already satisfied: nest-asyncio>=1.4 in c:\\users\\nicolas garcia\\appdata\\roaming\\python\\python313\\site-packages (from ipykernel) (1.6.0)\n",
      "Requirement already satisfied: packaging>=22 in c:\\users\\nicolas garcia\\appdata\\roaming\\python\\python313\\site-packages (from ipykernel) (24.2)\n",
      "Requirement already satisfied: psutil>=5.7 in c:\\users\\nicolas garcia\\appdata\\roaming\\python\\python313\\site-packages (from ipykernel) (7.0.0)\n",
      "Requirement already satisfied: pyzmq>=25 in c:\\users\\nicolas garcia\\appdata\\roaming\\python\\python313\\site-packages (from ipykernel) (26.3.0)\n",
      "Requirement already satisfied: tornado>=6.2 in c:\\users\\nicolas garcia\\appdata\\roaming\\python\\python313\\site-packages (from ipykernel) (6.4.2)\n",
      "Requirement already satisfied: traitlets>=5.4.0 in c:\\users\\nicolas garcia\\appdata\\roaming\\python\\python313\\site-packages (from ipykernel) (5.14.3)\n",
      "Requirement already satisfied: colorama in c:\\users\\nicolas garcia\\appdata\\roaming\\python\\python313\\site-packages (from ipython>=7.23.1->ipykernel) (0.4.6)\n",
      "Requirement already satisfied: decorator in c:\\users\\nicolas garcia\\appdata\\roaming\\python\\python313\\site-packages (from ipython>=7.23.1->ipykernel) (5.2.1)\n",
      "Requirement already satisfied: ipython-pygments-lexers in c:\\users\\nicolas garcia\\appdata\\roaming\\python\\python313\\site-packages (from ipython>=7.23.1->ipykernel) (1.1.1)\n",
      "Requirement already satisfied: jedi>=0.16 in c:\\users\\nicolas garcia\\appdata\\roaming\\python\\python313\\site-packages (from ipython>=7.23.1->ipykernel) (0.19.2)\n",
      "Requirement already satisfied: prompt_toolkit<3.1.0,>=3.0.41 in c:\\users\\nicolas garcia\\appdata\\roaming\\python\\python313\\site-packages (from ipython>=7.23.1->ipykernel) (3.0.50)\n",
      "Requirement already satisfied: pygments>=2.4.0 in c:\\users\\nicolas garcia\\appdata\\roaming\\python\\python313\\site-packages (from ipython>=7.23.1->ipykernel) (2.19.1)\n",
      "Requirement already satisfied: stack_data in c:\\users\\nicolas garcia\\appdata\\roaming\\python\\python313\\site-packages (from ipython>=7.23.1->ipykernel) (0.6.3)\n",
      "Requirement already satisfied: python-dateutil>=2.8.2 in c:\\users\\nicolas garcia\\appdata\\roaming\\python\\python313\\site-packages (from jupyter-client>=8.0.0->ipykernel) (2.9.0.post0)\n",
      "Requirement already satisfied: platformdirs>=2.5 in c:\\users\\nicolas garcia\\appdata\\roaming\\python\\python313\\site-packages (from jupyter-core!=5.0.*,>=4.12->ipykernel) (4.3.7)\n",
      "Requirement already satisfied: pywin32>=300 in c:\\users\\nicolas garcia\\appdata\\roaming\\python\\python313\\site-packages (from jupyter-core!=5.0.*,>=4.12->ipykernel) (310)\n",
      "Requirement already satisfied: parso<0.9.0,>=0.8.4 in c:\\users\\nicolas garcia\\appdata\\roaming\\python\\python313\\site-packages (from jedi>=0.16->ipython>=7.23.1->ipykernel) (0.8.4)\n",
      "Requirement already satisfied: wcwidth in c:\\users\\nicolas garcia\\appdata\\roaming\\python\\python313\\site-packages (from prompt_toolkit<3.1.0,>=3.0.41->ipython>=7.23.1->ipykernel) (0.2.13)\n",
      "Requirement already satisfied: six>=1.5 in c:\\users\\nicolas garcia\\appdata\\roaming\\python\\python313\\site-packages (from python-dateutil>=2.8.2->jupyter-client>=8.0.0->ipykernel) (1.17.0)\n",
      "Requirement already satisfied: executing>=1.2.0 in c:\\users\\nicolas garcia\\appdata\\roaming\\python\\python313\\site-packages (from stack_data->ipython>=7.23.1->ipykernel) (2.2.0)\n",
      "Requirement already satisfied: asttokens>=2.1.0 in c:\\users\\nicolas garcia\\appdata\\roaming\\python\\python313\\site-packages (from stack_data->ipython>=7.23.1->ipykernel) (3.0.0)\n",
      "Requirement already satisfied: pure-eval in c:\\users\\nicolas garcia\\appdata\\roaming\\python\\python313\\site-packages (from stack_data->ipython>=7.23.1->ipykernel) (0.2.3)\n",
      "Downloading ipykernel-6.30.1-py3-none-any.whl (117 kB)\n",
      "Installing collected packages: ipykernel\n",
      "  Attempting uninstall: ipykernel\n",
      "    Found existing installation: ipykernel 6.29.5\n",
      "    Uninstalling ipykernel-6.29.5:\n",
      "      Successfully uninstalled ipykernel-6.29.5\n",
      "Successfully installed ipykernel-6.30.1\n",
      "Note: you may need to restart the kernel to use updated packages.\n"
     ]
    },
    {
     "name": "stderr",
     "output_type": "stream",
     "text": [
      "\n",
      "[notice] A new release of pip is available: 24.3.1 -> 25.2\n",
      "[notice] To update, run: python.exe -m pip install --upgrade pip\n"
     ]
    }
   ],
   "source": [
    "pip install --upgrade ipykernel"
   ]
  },
  {
   "cell_type": "code",
   "execution_count": 14,
   "id": "1c487654",
   "metadata": {},
   "outputs": [],
   "source": [
    "import pandas as pd\n",
    "import numpy as np\n",
    "import matplotlib.pyplot as plt\n",
    "import seaborn as sns\n",
    "import sklearn as sk"
   ]
  },
  {
   "cell_type": "code",
   "execution_count": 15,
   "id": "4ba9133e",
   "metadata": {},
   "outputs": [
    {
     "data": {
      "text/plain": [
       "<seaborn.axisgrid.FacetGrid at 0x23701d17b60>"
      ]
     },
     "execution_count": 15,
     "metadata": {},
     "output_type": "execute_result"
    },
    {
     "data": {
      "image/png": "[encoded data removed]",
      "text/plain": [
       "<Figure size 500x500 with 1 Axes>"
      ]
     },
     "metadata": {},
     "output_type": "display_data"
    }
   ],
   "source": [
    "df = sns.load_dataset('iris')\n",
    "\n",
    "# Plot the histogram thanks to the displot function\n",
    "sns.displot( data=df[\"sepal_length\"], kde=True )"
   ]
  },
  {
   "cell_type": "code",
   "execution_count": 16,
   "id": "1d0236d2",
   "metadata": {},
   "outputs": [
    {
     "data": {
      "text/html": [
       "<div>\n",
       "<style scoped>\n",
       "    .dataframe tbody tr th:only-of-type {\n",
       "        vertical-align: middle;\n",
       "    }\n",
       "\n",
       "    .dataframe tbody tr th {\n",
       "        vertical-align: top;\n",
       "    }\n",
       "\n",
       "    .dataframe thead th {\n",
       "        text-align: right;\n",
       "    }\n",
       "</style>\n",
       "<table border=\"1\" class=\"dataframe\">\n",
       "  <thead>\n",
       "    <tr style=\"text-align: right;\">\n",
       "      <th></th>\n",
       "      <th>sepal_length</th>\n",
       "      <th>sepal_width</th>\n",
       "      <th>petal_length</th>\n",
       "      <th>petal_width</th>\n",
       "    </tr>\n",
       "  </thead>\n",
       "  <tbody>\n",
       "    <tr>\n",
       "      <th>count</th>\n",
       "      <td>150.000000</td>\n",
       "      <td>150.000000</td>\n",
       "      <td>150.000000</td>\n",
       "      <td>150.000000</td>\n",
       "    </tr>\n",
       "    <tr>\n",
       "      <th>mean</th>\n",
       "      <td>5.843333</td>\n",
       "      <td>3.057333</td>\n",
       "      <td>3.758000</td>\n",
       "      <td>1.199333</td>\n",
       "    </tr>\n",
       "    <tr>\n",
       "      <th>std</th>\n",
       "      <td>0.828066</td>\n",
       "      <td>0.435866</td>\n",
       "      <td>1.765298</td>\n",
       "      <td>0.762238</td>\n",
       "    </tr>\n",
       "    <tr>\n",
       "      <th>min</th>\n",
       "      <td>4.300000</td>\n",
       "      <td>2.000000</td>\n",
       "      <td>1.000000</td>\n",
       "      <td>0.100000</td>\n",
       "    </tr>\n",
       "    <tr>\n",
       "      <th>25%</th>\n",
       "      <td>5.100000</td>\n",
       "      <td>2.800000</td>\n",
       "      <td>1.600000</td>\n",
       "      <td>0.300000</td>\n",
       "    </tr>\n",
       "    <tr>\n",
       "      <th>50%</th>\n",
       "      <td>5.800000</td>\n",
       "      <td>3.000000</td>\n",
       "      <td>4.350000</td>\n",
       "      <td>1.300000</td>\n",
       "    </tr>\n",
       "    <tr>\n",
       "      <th>75%</th>\n",
       "      <td>6.400000</td>\n",
       "      <td>3.300000</td>\n",
       "      <td>5.100000</td>\n",
       "      <td>1.800000</td>\n",
       "    </tr>\n",
       "    <tr>\n",
       "      <th>max</th>\n",
       "      <td>7.900000</td>\n",
       "      <td>4.400000</td>\n",
       "      <td>6.900000</td>\n",
       "      <td>2.500000</td>\n",
       "    </tr>\n",
       "  </tbody>\n",
       "</table>\n",
       "</div>"
      ],
      "text/plain": [
       "       sepal_length  sepal_width  petal_length  petal_width\n",
       "count    150.000000   150.000000    150.000000   150.000000\n",
       "mean       5.843333     3.057333      3.758000     1.199333\n",
       "std        0.828066     0.435866      1.765298     0.762238\n",
       "min        4.300000     2.000000      1.000000     0.100000\n",
       "25%        5.100000     2.800000      1.600000     0.300000\n",
       "50%        5.800000     3.000000      4.350000     1.300000\n",
       "75%        6.400000     3.300000      5.100000     1.800000\n",
       "max        7.900000     4.400000      6.900000     2.500000"
      ]
     },
     "execution_count": 16,
     "metadata": {},
     "output_type": "execute_result"
    }
   ],
   "source": [
    "df.describe()"
   ]
  }
 ],
 "metadata": {
  "kernelspec": {
   "display_name": "Python 3",
   "language": "python",
   "name": "python3"
  },
  "language_info": {
   "codemirror_mode": {
    "name": "ipython",
    "version": 3
   },
   "file_extension": ".py",
   "mimetype": "text/x-python",
   "name": "python",
   "nbconvert_exporter": "python",
   "pygments_lexer": "ipython3",
   "version": "3.13.2"
  }
 },
 "nbformat": 4,
 "nbformat_minor": 5
}
